{
 "cells": [
  {
   "cell_type": "markdown",
   "metadata": {
    "jupyter": {
     "outputs_hidden": true
    }
   },
   "source": [
    "## Timezone Class"
   ]
  },
  {
   "cell_type": "code",
   "execution_count": 3,
   "metadata": {},
   "outputs": [],
   "source": [
    "import numbers\n",
    "from datetime import timedelta, datetime\n",
    "\n",
    "\n",
    "class TimeZone:\n",
    "    def __init__(self, name, offset_hours, offset_minutes):\n",
    "        if name is None or len(str(name).strip()) == 0:\n",
    "            raise ValueError(\"Time zone cannot be empty.\")\n",
    "\n",
    "        self._name = str(name).strip()\n",
    "\n",
    "        if not isinstance(offset_hours, numbers.Integral):\n",
    "            raise ValueError(\"Hour offset must be an integer.\")\n",
    "\n",
    "        if not isinstance(offset_minutes, numbers.Integral):\n",
    "            raise ValueError(\"Minute offset must be an integer.\")\n",
    "\n",
    "        if offset_minutes > 59 or offset_minutes < -59:\n",
    "            raise ValueError(\"must be between -59 and 59 (inclusive).\")\n",
    "\n",
    "        offset = timedelta(hours=offset_hours, minutes=offset_minutes)\n",
    "        if offset < timedelta(hours=-12, minutes=0) or offset > timedelta(hours=14, minutes=0):\n",
    "            raise ValueError(\"offset must be between -12:00 and 14:00.\")\n",
    "\n",
    "        self._offset_hours = offset_hours\n",
    "        self._offset_minutes = offset_minutes\n",
    "        self._offset = offset\n",
    "\n",
    "    @property\n",
    "    def offset(self):\n",
    "        return self._offset\n",
    "\n",
    "    @property\n",
    "    def name(self):\n",
    "        return self._name\n",
    "\n",
    "    def __eq__(self, other):\n",
    "        return (isinstance(other, TimeZone) and\n",
    "                self.name == other.name and\n",
    "                self._offset_hours == other._offset_hours and\n",
    "                self._offset_minutes == other._offset_minutes)\n",
    "\n",
    "    def __repr__(self):\n",
    "        return (f\"TimeZone(name = '{self.name}', \"\n",
    "                f\"offset_hours = {self._offset_hours}, \"\n",
    "                f\"offset_minutes = {self._offset_minutes}\")"
   ]
  },
  {
   "cell_type": "markdown",
   "metadata": {},
   "source": [
    "## Account Class"
   ]
  },
  {
   "cell_type": "code",
   "execution_count": 4,
   "metadata": {},
   "outputs": [
    {
     "name": "stdout",
     "output_type": "stream",
     "text": [
      "2020-05-22 19:39:25.633171\n",
      "2020-05-22 17:24:25.633171\n"
     ]
    }
   ],
   "source": [
    "import itertools\n",
    "import numbers\n",
    "from datetime import datetime\n",
    "from timezone import TimeZone\n",
    "\n",
    "\n",
    "class Account:\n",
    "    transaction_counter = itertools.count(100)\n",
    "    _interest_rate = 0.5 #%\n",
    "    _transaction_codes = {\n",
    "        \"deposit\": \"D\",\n",
    "        \"withdraw\": \"W\",\n",
    "        \"interest\": \"I\",\n",
    "        \"rejected\": \"X\"\n",
    "    }\n",
    "\n",
    "    def __init__(self, account_number, first_name, last_name, time_zone=None, initial_balance=0):\n",
    "        self._account_number = account_number\n",
    "        self.first_name = first_name\n",
    "        self.last_name = last_name\n",
    "\n",
    "        if time_zone is None:\n",
    "            time_zone = TimeZone(\"UTC\", 0, 0)\n",
    "        self.time_zone = time_zone\n",
    "\n",
    "        self._balance = float(initial_balance)\n",
    "\n",
    "    @property\n",
    "    def account_number(self):\n",
    "        return self._account_number\n",
    "\n",
    "    @property\n",
    "    def first_name(self):\n",
    "        return self._first_name\n",
    "\n",
    "    @first_name.setter\n",
    "    def first_name(self, new_first_name):\n",
    "        # if len(str(new_first_name).strip()) == 0:\n",
    "        #     raise ValueError(\"First name is required.\")\n",
    "        # else:\n",
    "        # self._first_name = Account.validate_name(new_first_name, \"First Name\")\n",
    "        self.validate_and_set_name(\"_first_name\", new_first_name, \"First Name\")\n",
    "\n",
    "    @property\n",
    "    def last_name(self):\n",
    "        return self._last_name\n",
    "\n",
    "    @last_name.setter\n",
    "    def last_name(self, new_last_name):\n",
    "        # if len(str(new_last_name).strip()) == 0:\n",
    "        #     raise ValueError(\"Last name is required.\")\n",
    "        # else:\n",
    "        self.validate_and_set_name(\"_last_name\", new_last_name, \"Last Name\")\n",
    "\n",
    "    @property\n",
    "    def balance(self):\n",
    "        return self._balance\n",
    "\n",
    "    @property\n",
    "    def time_zone(self):\n",
    "        return self._time_zone\n",
    "\n",
    "    @time_zone.setter\n",
    "    def time_zone(self, value):\n",
    "        if not isinstance(value, TimeZone):\n",
    "            raise ValueError(\"must be a valid TimeZone object.\")\n",
    "        self._time_zone = value\n",
    "\n",
    "    @classmethod\n",
    "    def get_interest_rate(cls):\n",
    "        return cls._insterest_rate\n",
    "\n",
    "    @classmethod\n",
    "    def set_interest_rate(cls, value):\n",
    "        if not isinstance(value, numbers.Real):\n",
    "            raise ValueError(\"interest rate must be a number\")\n",
    "        if value < 0:\n",
    "            raise ValueError(\"Interest rate cannot be negative\")\n",
    "        cls._interest_rate = value\n",
    "\n",
    "    # @staticmethod\n",
    "    def validate_and_set_name(self, attribute_name, value, field_title):\n",
    "        if value is None and len(str(value).strip()) == 0:\n",
    "            raise ValueError(f\"{field_title} is required.\")\n",
    "        setattr(self, attribute_name, value)\n",
    "\n",
    "\n",
    "    def generate_confirmation_code(self, transaction_code):\n",
    "        dt_str = datetime.utcnow().strftime(\"%Y%m%d%H%M%S\")\n",
    "        return f\"{transaction_code}-{self.account_number}-{dt_str}-{next(Account.transaction_counter)}\"\n",
    "\n",
    "    def make_transaction(self):\n",
    "        return self.generate_confirmation_code(\"dummy\")"
   ]
  },
  {
   "cell_type": "markdown",
   "metadata": {},
   "source": [
    "## Account Class Test"
   ]
  },
  {
   "cell_type": "code",
   "execution_count": 5,
   "metadata": {},
   "outputs": [
    {
     "name": "stdout",
     "output_type": "stream",
     "text": [
      "<bound method Account.get_interest_rate of <class '__main__.Account'>>\n",
      "<bound method Account.get_interest_rate of <class '__main__.Account'>>\n",
      "Shayan\n",
      "Naghi\n",
      "Shayan\n",
      "Naghizadeh\n",
      "1000000.0\n"
     ]
    }
   ],
   "source": [
    "a1 = Account(\"A100\", \"Ali\", \"Maleki\")\n",
    "a1.make_transaction()\n",
    "a1.make_transaction()\n",
    "# generate_confirmation_code(62536, 6500, \"X\")\n",
    "\n",
    "acc1 = Account(42524, \"Shayan\", \"naghi\")\n",
    "acc2 = Account(54987, \"Reza\", \"Noghshi\")\n",
    "\n",
    "print(acc1.get_interest_rate)\n",
    "print(acc2.get_interest_rate)\n",
    "\n",
    "\n",
    "#\n",
    "# print(acc1.make_transaction())\n",
    "# print(acc2.make_transaction())\n",
    "# print(acc1.make_transaction())\n",
    "\n",
    "\n",
    "a = Account(65245, \"Shayan\", \"Naghi\", initial_balance=1_000_000)\n",
    "print(a.first_name)\n",
    "print(a.last_name)\n",
    "a.last_name = \"Naghizadeh\"\n",
    "print(a.first_name)\n",
    "print(a.last_name)\n",
    "\n",
    "print(a.balance)"
   ]
  },
  {
   "cell_type": "code",
   "execution_count": null,
   "metadata": {},
   "outputs": [],
   "source": []
  }
 ],
 "metadata": {
  "kernelspec": {
   "display_name": "Python 3",
   "language": "python",
   "name": "python3"
  },
  "language_info": {
   "codemirror_mode": {
    "name": "ipython",
    "version": 3
   },
   "file_extension": ".py",
   "mimetype": "text/x-python",
   "name": "python",
   "nbconvert_exporter": "python",
   "pygments_lexer": "ipython3",
   "version": "3.7.6"
  }
 },
 "nbformat": 4,
 "nbformat_minor": 4
}
